{
 "cells": [
  {
   "cell_type": "markdown",
   "metadata": {},
   "source": [
    "# Loan Prediction Practice Problem"
   ]
  },
  {
   "cell_type": "code",
   "execution_count": 37,
   "metadata": {
    "collapsed": true
   },
   "outputs": [],
   "source": [
    "import pandas as pd\n",
    "from pandas import Series,DataFrame\n",
    "import matplotlib.pyplot as plt\n",
    "import numpy as np\n",
    "import seaborn as sns\n",
    "%matplotlib inline\n",
    "from sklearn import datasets, linear_model\n",
    "from sklearn.metrics import mean_squared_error, r2_score"
   ]
  },
  {
   "cell_type": "code",
   "execution_count": 38,
   "metadata": {
    "collapsed": true
   },
   "outputs": [],
   "source": [
    "train = pd.read_csv(\"C:/Users/Rohit/Downloads/Train_Loan_Prediction.csv\")\n",
    "test = pd.read_csv(\"C:/Users/Rohit/Downloads/Test_Loan_Prediction.csv\")"
   ]
  },
  {
   "cell_type": "code",
   "execution_count": 39,
   "metadata": {},
   "outputs": [
    {
     "data": {
      "text/html": [
       "<div>\n",
       "<style>\n",
       "    .dataframe thead tr:only-child th {\n",
       "        text-align: right;\n",
       "    }\n",
       "\n",
       "    .dataframe thead th {\n",
       "        text-align: left;\n",
       "    }\n",
       "\n",
       "    .dataframe tbody tr th {\n",
       "        vertical-align: top;\n",
       "    }\n",
       "</style>\n",
       "<table border=\"1\" class=\"dataframe\">\n",
       "  <thead>\n",
       "    <tr style=\"text-align: right;\">\n",
       "      <th></th>\n",
       "      <th>Loan_ID</th>\n",
       "      <th>Gender</th>\n",
       "      <th>Married</th>\n",
       "      <th>Dependents</th>\n",
       "      <th>Education</th>\n",
       "      <th>Self_Employed</th>\n",
       "      <th>ApplicantIncome</th>\n",
       "      <th>CoapplicantIncome</th>\n",
       "      <th>LoanAmount</th>\n",
       "      <th>Loan_Amount_Term</th>\n",
       "      <th>Credit_History</th>\n",
       "      <th>Property_Area</th>\n",
       "      <th>Loan_Status</th>\n",
       "    </tr>\n",
       "  </thead>\n",
       "  <tbody>\n",
       "    <tr>\n",
       "      <th>0</th>\n",
       "      <td>LP001002</td>\n",
       "      <td>Male</td>\n",
       "      <td>No</td>\n",
       "      <td>0</td>\n",
       "      <td>Graduate</td>\n",
       "      <td>No</td>\n",
       "      <td>5849</td>\n",
       "      <td>0.0</td>\n",
       "      <td>NaN</td>\n",
       "      <td>360.0</td>\n",
       "      <td>1.0</td>\n",
       "      <td>Urban</td>\n",
       "      <td>Y</td>\n",
       "    </tr>\n",
       "    <tr>\n",
       "      <th>1</th>\n",
       "      <td>LP001003</td>\n",
       "      <td>Male</td>\n",
       "      <td>Yes</td>\n",
       "      <td>1</td>\n",
       "      <td>Graduate</td>\n",
       "      <td>No</td>\n",
       "      <td>4583</td>\n",
       "      <td>1508.0</td>\n",
       "      <td>128.0</td>\n",
       "      <td>360.0</td>\n",
       "      <td>1.0</td>\n",
       "      <td>Rural</td>\n",
       "      <td>N</td>\n",
       "    </tr>\n",
       "    <tr>\n",
       "      <th>2</th>\n",
       "      <td>LP001005</td>\n",
       "      <td>Male</td>\n",
       "      <td>Yes</td>\n",
       "      <td>0</td>\n",
       "      <td>Graduate</td>\n",
       "      <td>Yes</td>\n",
       "      <td>3000</td>\n",
       "      <td>0.0</td>\n",
       "      <td>66.0</td>\n",
       "      <td>360.0</td>\n",
       "      <td>1.0</td>\n",
       "      <td>Urban</td>\n",
       "      <td>Y</td>\n",
       "    </tr>\n",
       "    <tr>\n",
       "      <th>3</th>\n",
       "      <td>LP001006</td>\n",
       "      <td>Male</td>\n",
       "      <td>Yes</td>\n",
       "      <td>0</td>\n",
       "      <td>Not Graduate</td>\n",
       "      <td>No</td>\n",
       "      <td>2583</td>\n",
       "      <td>2358.0</td>\n",
       "      <td>120.0</td>\n",
       "      <td>360.0</td>\n",
       "      <td>1.0</td>\n",
       "      <td>Urban</td>\n",
       "      <td>Y</td>\n",
       "    </tr>\n",
       "    <tr>\n",
       "      <th>4</th>\n",
       "      <td>LP001008</td>\n",
       "      <td>Male</td>\n",
       "      <td>No</td>\n",
       "      <td>0</td>\n",
       "      <td>Graduate</td>\n",
       "      <td>No</td>\n",
       "      <td>6000</td>\n",
       "      <td>0.0</td>\n",
       "      <td>141.0</td>\n",
       "      <td>360.0</td>\n",
       "      <td>1.0</td>\n",
       "      <td>Urban</td>\n",
       "      <td>Y</td>\n",
       "    </tr>\n",
       "  </tbody>\n",
       "</table>\n",
       "</div>"
      ],
      "text/plain": [
       "    Loan_ID Gender Married Dependents     Education Self_Employed  \\\n",
       "0  LP001002   Male      No          0      Graduate            No   \n",
       "1  LP001003   Male     Yes          1      Graduate            No   \n",
       "2  LP001005   Male     Yes          0      Graduate           Yes   \n",
       "3  LP001006   Male     Yes          0  Not Graduate            No   \n",
       "4  LP001008   Male      No          0      Graduate            No   \n",
       "\n",
       "   ApplicantIncome  CoapplicantIncome  LoanAmount  Loan_Amount_Term  \\\n",
       "0             5849                0.0         NaN             360.0   \n",
       "1             4583             1508.0       128.0             360.0   \n",
       "2             3000                0.0        66.0             360.0   \n",
       "3             2583             2358.0       120.0             360.0   \n",
       "4             6000                0.0       141.0             360.0   \n",
       "\n",
       "   Credit_History Property_Area Loan_Status  \n",
       "0             1.0         Urban           Y  \n",
       "1             1.0         Rural           N  \n",
       "2             1.0         Urban           Y  \n",
       "3             1.0         Urban           Y  \n",
       "4             1.0         Urban           Y  "
      ]
     },
     "execution_count": 39,
     "metadata": {},
     "output_type": "execute_result"
    }
   ],
   "source": [
    "train.head()"
   ]
  },
  {
   "cell_type": "code",
   "execution_count": 40,
   "metadata": {
    "scrolled": false
   },
   "outputs": [
    {
     "data": {
      "text/html": [
       "<div>\n",
       "<style>\n",
       "    .dataframe thead tr:only-child th {\n",
       "        text-align: right;\n",
       "    }\n",
       "\n",
       "    .dataframe thead th {\n",
       "        text-align: left;\n",
       "    }\n",
       "\n",
       "    .dataframe tbody tr th {\n",
       "        vertical-align: top;\n",
       "    }\n",
       "</style>\n",
       "<table border=\"1\" class=\"dataframe\">\n",
       "  <thead>\n",
       "    <tr style=\"text-align: right;\">\n",
       "      <th></th>\n",
       "      <th>Loan_ID</th>\n",
       "      <th>Gender</th>\n",
       "      <th>Married</th>\n",
       "      <th>Dependents</th>\n",
       "      <th>Education</th>\n",
       "      <th>Self_Employed</th>\n",
       "      <th>ApplicantIncome</th>\n",
       "      <th>CoapplicantIncome</th>\n",
       "      <th>LoanAmount</th>\n",
       "      <th>Loan_Amount_Term</th>\n",
       "      <th>Credit_History</th>\n",
       "      <th>Property_Area</th>\n",
       "    </tr>\n",
       "  </thead>\n",
       "  <tbody>\n",
       "    <tr>\n",
       "      <th>0</th>\n",
       "      <td>LP001015</td>\n",
       "      <td>Male</td>\n",
       "      <td>Yes</td>\n",
       "      <td>0</td>\n",
       "      <td>Graduate</td>\n",
       "      <td>No</td>\n",
       "      <td>5720</td>\n",
       "      <td>0</td>\n",
       "      <td>110.0</td>\n",
       "      <td>360.0</td>\n",
       "      <td>1.0</td>\n",
       "      <td>Urban</td>\n",
       "    </tr>\n",
       "    <tr>\n",
       "      <th>1</th>\n",
       "      <td>LP001022</td>\n",
       "      <td>Male</td>\n",
       "      <td>Yes</td>\n",
       "      <td>1</td>\n",
       "      <td>Graduate</td>\n",
       "      <td>No</td>\n",
       "      <td>3076</td>\n",
       "      <td>1500</td>\n",
       "      <td>126.0</td>\n",
       "      <td>360.0</td>\n",
       "      <td>1.0</td>\n",
       "      <td>Urban</td>\n",
       "    </tr>\n",
       "    <tr>\n",
       "      <th>2</th>\n",
       "      <td>LP001031</td>\n",
       "      <td>Male</td>\n",
       "      <td>Yes</td>\n",
       "      <td>2</td>\n",
       "      <td>Graduate</td>\n",
       "      <td>No</td>\n",
       "      <td>5000</td>\n",
       "      <td>1800</td>\n",
       "      <td>208.0</td>\n",
       "      <td>360.0</td>\n",
       "      <td>1.0</td>\n",
       "      <td>Urban</td>\n",
       "    </tr>\n",
       "    <tr>\n",
       "      <th>3</th>\n",
       "      <td>LP001035</td>\n",
       "      <td>Male</td>\n",
       "      <td>Yes</td>\n",
       "      <td>2</td>\n",
       "      <td>Graduate</td>\n",
       "      <td>No</td>\n",
       "      <td>2340</td>\n",
       "      <td>2546</td>\n",
       "      <td>100.0</td>\n",
       "      <td>360.0</td>\n",
       "      <td>NaN</td>\n",
       "      <td>Urban</td>\n",
       "    </tr>\n",
       "    <tr>\n",
       "      <th>4</th>\n",
       "      <td>LP001051</td>\n",
       "      <td>Male</td>\n",
       "      <td>No</td>\n",
       "      <td>0</td>\n",
       "      <td>Not Graduate</td>\n",
       "      <td>No</td>\n",
       "      <td>3276</td>\n",
       "      <td>0</td>\n",
       "      <td>78.0</td>\n",
       "      <td>360.0</td>\n",
       "      <td>1.0</td>\n",
       "      <td>Urban</td>\n",
       "    </tr>\n",
       "  </tbody>\n",
       "</table>\n",
       "</div>"
      ],
      "text/plain": [
       "    Loan_ID Gender Married Dependents     Education Self_Employed  \\\n",
       "0  LP001015   Male     Yes          0      Graduate            No   \n",
       "1  LP001022   Male     Yes          1      Graduate            No   \n",
       "2  LP001031   Male     Yes          2      Graduate            No   \n",
       "3  LP001035   Male     Yes          2      Graduate            No   \n",
       "4  LP001051   Male      No          0  Not Graduate            No   \n",
       "\n",
       "   ApplicantIncome  CoapplicantIncome  LoanAmount  Loan_Amount_Term  \\\n",
       "0             5720                  0       110.0             360.0   \n",
       "1             3076               1500       126.0             360.0   \n",
       "2             5000               1800       208.0             360.0   \n",
       "3             2340               2546       100.0             360.0   \n",
       "4             3276                  0        78.0             360.0   \n",
       "\n",
       "   Credit_History Property_Area  \n",
       "0             1.0         Urban  \n",
       "1             1.0         Urban  \n",
       "2             1.0         Urban  \n",
       "3             NaN         Urban  \n",
       "4             1.0         Urban  "
      ]
     },
     "execution_count": 40,
     "metadata": {},
     "output_type": "execute_result"
    }
   ],
   "source": [
    "test.head()"
   ]
  },
  {
   "cell_type": "markdown",
   "metadata": {},
   "source": [
    "## Details of Loan Prediction Model"
   ]
  },
  {
   "cell_type": "code",
   "execution_count": 41,
   "metadata": {},
   "outputs": [
    {
     "name": "stdout",
     "output_type": "stream",
     "text": [
      "<class 'pandas.core.frame.DataFrame'>\n",
      "RangeIndex: 614 entries, 0 to 613\n",
      "Data columns (total 13 columns):\n",
      "Loan_ID              614 non-null object\n",
      "Gender               601 non-null object\n",
      "Married              611 non-null object\n",
      "Dependents           599 non-null object\n",
      "Education            614 non-null object\n",
      "Self_Employed        582 non-null object\n",
      "ApplicantIncome      614 non-null int64\n",
      "CoapplicantIncome    614 non-null float64\n",
      "LoanAmount           592 non-null float64\n",
      "Loan_Amount_Term     600 non-null float64\n",
      "Credit_History       564 non-null float64\n",
      "Property_Area        614 non-null object\n",
      "Loan_Status          614 non-null object\n",
      "dtypes: float64(4), int64(1), object(8)\n",
      "memory usage: 62.4+ KB\n"
     ]
    }
   ],
   "source": [
    "train.info()"
   ]
  },
  {
   "cell_type": "code",
   "execution_count": 42,
   "metadata": {
    "scrolled": true
   },
   "outputs": [
    {
     "name": "stdout",
     "output_type": "stream",
     "text": [
      "<class 'pandas.core.frame.DataFrame'>\n",
      "RangeIndex: 367 entries, 0 to 366\n",
      "Data columns (total 12 columns):\n",
      "Loan_ID              367 non-null object\n",
      "Gender               356 non-null object\n",
      "Married              367 non-null object\n",
      "Dependents           357 non-null object\n",
      "Education            367 non-null object\n",
      "Self_Employed        344 non-null object\n",
      "ApplicantIncome      367 non-null int64\n",
      "CoapplicantIncome    367 non-null int64\n",
      "LoanAmount           362 non-null float64\n",
      "Loan_Amount_Term     361 non-null float64\n",
      "Credit_History       338 non-null float64\n",
      "Property_Area        367 non-null object\n",
      "dtypes: float64(3), int64(2), object(7)\n",
      "memory usage: 34.5+ KB\n"
     ]
    }
   ],
   "source": [
    "test.info()"
   ]
  },
  {
   "cell_type": "markdown",
   "metadata": {},
   "source": [
    "## Null Value Count"
   ]
  },
  {
   "cell_type": "code",
   "execution_count": 43,
   "metadata": {},
   "outputs": [
    {
     "data": {
      "text/plain": [
       "Loan_ID               0\n",
       "Gender               13\n",
       "Married               3\n",
       "Dependents           15\n",
       "Education             0\n",
       "Self_Employed        32\n",
       "ApplicantIncome       0\n",
       "CoapplicantIncome     0\n",
       "LoanAmount           22\n",
       "Loan_Amount_Term     14\n",
       "Credit_History       50\n",
       "Property_Area         0\n",
       "Loan_Status           0\n",
       "dtype: int64"
      ]
     },
     "execution_count": 43,
     "metadata": {},
     "output_type": "execute_result"
    }
   ],
   "source": [
    "train.isnull().sum()"
   ]
  },
  {
   "cell_type": "code",
   "execution_count": 44,
   "metadata": {},
   "outputs": [
    {
     "data": {
      "text/plain": [
       "Loan_ID               0\n",
       "Gender               11\n",
       "Married               0\n",
       "Dependents           10\n",
       "Education             0\n",
       "Self_Employed        23\n",
       "ApplicantIncome       0\n",
       "CoapplicantIncome     0\n",
       "LoanAmount            5\n",
       "Loan_Amount_Term      6\n",
       "Credit_History       29\n",
       "Property_Area         0\n",
       "dtype: int64"
      ]
     },
     "execution_count": 44,
     "metadata": {},
     "output_type": "execute_result"
    }
   ],
   "source": [
    "test.isnull().sum()"
   ]
  },
  {
   "cell_type": "markdown",
   "metadata": {},
   "source": [
    "## Feature Engineering and Missing Value Imputations -"
   ]
  },
  {
   "cell_type": "markdown",
   "metadata": {},
   "source": [
    "### Dependents "
   ]
  },
  {
   "cell_type": "code",
   "execution_count": 45,
   "metadata": {},
   "outputs": [
    {
     "data": {
      "text/plain": [
       "array(['0', '1', '2', '3+', nan], dtype=object)"
      ]
     },
     "execution_count": 45,
     "metadata": {},
     "output_type": "execute_result"
    }
   ],
   "source": [
    "train['Dependents'].unique()"
   ]
  },
  {
   "cell_type": "code",
   "execution_count": 46,
   "metadata": {
    "collapsed": true
   },
   "outputs": [],
   "source": [
    "train.replace({'3+':4},inplace = True)\n",
    "test.replace({'3+':4},inplace = True)"
   ]
  },
  {
   "cell_type": "code",
   "execution_count": 47,
   "metadata": {},
   "outputs": [
    {
     "data": {
      "text/plain": [
       "<matplotlib.axes._subplots.AxesSubplot at 0xeb27cc0>"
      ]
     },
     "execution_count": 47,
     "metadata": {},
     "output_type": "execute_result"
    },
    {
     "data": {
      "image/png": "[encoded data removed]",
      "text/plain": [
       "<matplotlib.figure.Figure at 0xea09860>"
      ]
     },
     "metadata": {},
     "output_type": "display_data"
    }
   ],
   "source": [
    "sns.countplot(x='Dependents',data=test)"
   ]
  },
  {
   "cell_type": "code",
   "execution_count": 48,
   "metadata": {
    "collapsed": true,
    "scrolled": true
   },
   "outputs": [],
   "source": [
    "train['Dependents'] = train['Dependents'].fillna(train['Dependents'].mode()[0])\n",
    "test['Dependents'] = test['Dependents'].fillna(test['Dependents'].mode()[0])"
   ]
  },
  {
   "cell_type": "markdown",
   "metadata": {},
   "source": [
    "Filled the missing values with 0"
   ]
  },
  {
   "cell_type": "markdown",
   "metadata": {},
   "source": [
    "### Dropping Loan_ID"
   ]
  },
  {
   "cell_type": "code",
   "execution_count": 49,
   "metadata": {
    "collapsed": true
   },
   "outputs": [],
   "source": [
    "train.drop('Loan_ID',axis=1,inplace=True)\n",
    "test.drop('Loan_ID',axis=1,inplace=True)"
   ]
  },
  {
   "cell_type": "markdown",
   "metadata": {},
   "source": [
    "### Loan_Amount_Term"
   ]
  },
  {
   "cell_type": "code",
   "execution_count": 50,
   "metadata": {},
   "outputs": [
    {
     "data": {
      "text/plain": [
       "<matplotlib.axes._subplots.AxesSubplot at 0xec9bc18>"
      ]
     },
     "execution_count": 50,
     "metadata": {},
     "output_type": "execute_result"
    },
    {
     "data": {
      "image/png": "[encoded data removed]",
      "text/plain": [
       "<matplotlib.figure.Figure at 0xeb65940>"
      ]
     },
     "metadata": {},
     "output_type": "display_data"
    }
   ],
   "source": [
    "loan_grouped = train.groupby('Loan_Amount_Term')['Loan_Amount_Term'].transform('count')\n",
    "count=loan_grouped.unique()\n",
    "count=pd.Series(count)\n",
    "loan_unique = train['Loan_Amount_Term'].unique()\n",
    "count.plot.pie(figsize=(6,6),labels = loan_unique)"
   ]
  },
  {
   "cell_type": "code",
   "execution_count": 51,
   "metadata": {},
   "outputs": [
    {
     "data": {
      "text/plain": [
       "<matplotlib.axes._subplots.AxesSubplot at 0xef11b38>"
      ]
     },
     "execution_count": 51,
     "metadata": {},
     "output_type": "execute_result"
    },
    {
     "data": {
      "image/png": "[encoded data removed]",
      "text/plain": [
       "<matplotlib.figure.Figure at 0xedbf2b0>"
      ]
     },
     "metadata": {},
     "output_type": "display_data"
    }
   ],
   "source": [
    "sns.countplot(x='Loan_Amount_Term',data=train)"
   ]
  },
  {
   "cell_type": "code",
   "execution_count": 52,
   "metadata": {
    "collapsed": true
   },
   "outputs": [],
   "source": [
    "train['Loan_Amount_Term']=train['Loan_Amount_Term'].fillna(train['Loan_Amount_Term'].mode()[0])\n",
    "test['Loan_Amount_Term']=test['Loan_Amount_Term'].fillna(test['Loan_Amount_Term'].mode()[0])"
   ]
  },
  {
   "cell_type": "markdown",
   "metadata": {},
   "source": [
    "### Gender"
   ]
  },
  {
   "cell_type": "code",
   "execution_count": 53,
   "metadata": {},
   "outputs": [
    {
     "data": {
      "text/plain": [
       "<matplotlib.axes._subplots.AxesSubplot at 0xf23e1d0>"
      ]
     },
     "execution_count": 53,
     "metadata": {},
     "output_type": "execute_result"
    },
    {
     "data": {
      "image/png": "[encoded data removed]",
      "text/plain": [
       "<matplotlib.figure.Figure at 0xedb36d8>"
      ]
     },
     "metadata": {},
     "output_type": "display_data"
    }
   ],
   "source": [
    "sns.countplot(x='Gender',data=train)"
   ]
  },
  {
   "cell_type": "code",
   "execution_count": 54,
   "metadata": {
    "collapsed": true
   },
   "outputs": [],
   "source": [
    "train['Gender'] = train['Gender'].fillna(train['Gender'].mode()[0])\n",
    "test['Gender'] = test['Gender'].fillna(test['Gender'].mode()[0])"
   ]
  },
  {
   "cell_type": "markdown",
   "metadata": {},
   "source": [
    "### Self_Employed - "
   ]
  },
  {
   "cell_type": "code",
   "execution_count": 55,
   "metadata": {},
   "outputs": [
    {
     "data": {
      "text/plain": [
       "<matplotlib.axes._subplots.AxesSubplot at 0xf364358>"
      ]
     },
     "execution_count": 55,
     "metadata": {},
     "output_type": "execute_result"
    },
    {
     "data": {
      "image/png": "[encoded data removed]",
      "text/plain": [
       "<matplotlib.figure.Figure at 0xf469c18>"
      ]
     },
     "metadata": {},
     "output_type": "display_data"
    }
   ],
   "source": [
    "sns.countplot(x='Self_Employed',data=train)"
   ]
  },
  {
   "cell_type": "code",
   "execution_count": 56,
   "metadata": {
    "collapsed": true
   },
   "outputs": [],
   "source": [
    "train['Self_Employed'] = train['Self_Employed'].fillna(train['Self_Employed'].mode()[0])\n",
    "test['Self_Employed'] = test['Self_Employed'].fillna(test['Self_Employed'].mode()[0])"
   ]
  },
  {
   "cell_type": "markdown",
   "metadata": {},
   "source": [
    "### Credit History"
   ]
  },
  {
   "cell_type": "code",
   "execution_count": 57,
   "metadata": {},
   "outputs": [
    {
     "data": {
      "text/plain": [
       "<matplotlib.axes._subplots.AxesSubplot at 0xf866e10>"
      ]
     },
     "execution_count": 57,
     "metadata": {},
     "output_type": "execute_result"
    },
    {
     "data": {
      "image/png": "[encoded data removed]",
      "text/plain": [
       "<matplotlib.figure.Figure at 0xf24a438>"
      ]
     },
     "metadata": {},
     "output_type": "display_data"
    }
   ],
   "source": [
    "sns.countplot(x='Credit_History',data=train)"
   ]
  },
  {
   "cell_type": "code",
   "execution_count": 58,
   "metadata": {},
   "outputs": [
    {
     "data": {
      "text/plain": [
       "<matplotlib.axes._subplots.AxesSubplot at 0xf97c128>"
      ]
     },
     "execution_count": 58,
     "metadata": {},
     "output_type": "execute_result"
    },
    {
     "data": {
      "image/png": "[encoded data removed]",
      "text/plain": [
       "<matplotlib.figure.Figure at 0xf451b00>"
      ]
     },
     "metadata": {},
     "output_type": "display_data"
    }
   ],
   "source": [
    "sns.countplot(x='Credit_History', hue=\"Loan_Status\", data=train)"
   ]
  },
  {
   "cell_type": "code",
   "execution_count": 59,
   "metadata": {
    "collapsed": true
   },
   "outputs": [],
   "source": [
    "train['Credit_History'] = train['Credit_History'].fillna(train['Credit_History'].mode()[0])\n",
    "test['Credit_History'] = test['Credit_History'].fillna(test['Credit_History'].mode()[0])"
   ]
  },
  {
   "cell_type": "markdown",
   "metadata": {},
   "source": [
    "### Loan Amount"
   ]
  },
  {
   "cell_type": "code",
   "execution_count": 60,
   "metadata": {},
   "outputs": [
    {
     "data": {
      "text/plain": [
       "[<matplotlib.lines.Line2D at 0xfc57240>]"
      ]
     },
     "execution_count": 60,
     "metadata": {},
     "output_type": "execute_result"
    },
    {
     "data": {
      "image/png": "[encoded data removed]",
      "text/plain": [
       "<matplotlib.figure.Figure at 0xfc07198>"
      ]
     },
     "metadata": {},
     "output_type": "display_data"
    }
   ],
   "source": [
    "plt.plot(train['LoanAmount'])"
   ]
  },
  {
   "cell_type": "code",
   "execution_count": 61,
   "metadata": {},
   "outputs": [
    {
     "data": {
      "text/plain": [
       "[<matplotlib.lines.Line2D at 0x10004da0>]"
      ]
     },
     "execution_count": 61,
     "metadata": {},
     "output_type": "execute_result"
    },
    {
     "data": {
      "image/png": "[encoded data removed]",
      "text/plain": [
       "<matplotlib.figure.Figure at 0xfec6390>"
      ]
     },
     "metadata": {},
     "output_type": "display_data"
    }
   ],
   "source": [
    "plt.plot(train['LoanAmount'],'yo')"
   ]
  },
  {
   "cell_type": "code",
   "execution_count": 62,
   "metadata": {
    "collapsed": true
   },
   "outputs": [],
   "source": [
    "train['LoanAmount'] = train['LoanAmount'].fillna(train['LoanAmount'].mean())\n",
    "test['LoanAmount'] = test['LoanAmount'].fillna(test['LoanAmount'].mean())"
   ]
  },
  {
   "cell_type": "markdown",
   "metadata": {},
   "source": [
    "### Married"
   ]
  },
  {
   "cell_type": "code",
   "execution_count": 63,
   "metadata": {},
   "outputs": [
    {
     "data": {
      "text/plain": [
       "<matplotlib.axes._subplots.AxesSubplot at 0xfc57978>"
      ]
     },
     "execution_count": 63,
     "metadata": {},
     "output_type": "execute_result"
    },
    {
     "data": {
      "image/png": "[encoded data removed]",
      "text/plain": [
       "<matplotlib.figure.Figure at 0x10044470>"
      ]
     },
     "metadata": {},
     "output_type": "display_data"
    }
   ],
   "source": [
    "sns.countplot(x='Married',data=train)"
   ]
  },
  {
   "cell_type": "code",
   "execution_count": 64,
   "metadata": {
    "collapsed": true
   },
   "outputs": [],
   "source": [
    "train = train.dropna()"
   ]
  },
  {
   "cell_type": "markdown",
   "metadata": {},
   "source": [
    "Drppoed the three rows with missing values in Married column."
   ]
  },
  {
   "cell_type": "markdown",
   "metadata": {},
   "source": [
    "### Sum_Income\n",
    "Created a new column 'sum_income' by adding 'ApplicantIncome' and 'CoapplicantIncome'"
   ]
  },
  {
   "cell_type": "code",
   "execution_count": 65,
   "metadata": {},
   "outputs": [],
   "source": [
    "train['sum_income'] = train['ApplicantIncome']+train['CoapplicantIncome']"
   ]
  },
  {
   "cell_type": "markdown",
   "metadata": {},
   "source": [
    "### Ratio\n",
    "Created a new column ratio by LoanAmount/sum_income"
   ]
  },
  {
   "cell_type": "code",
   "execution_count": 66,
   "metadata": {},
   "outputs": [],
   "source": [
    "train['ratio'] = train['LoanAmount']/train['sum_income']"
   ]
  },
  {
   "cell_type": "markdown",
   "metadata": {},
   "source": [
    "## Categorical Variables - "
   ]
  },
  {
   "cell_type": "code",
   "execution_count": 67,
   "metadata": {
    "collapsed": true
   },
   "outputs": [],
   "source": [
    "train['Gender'].replace('Male',1,inplace=True)\n",
    "train['Gender'].replace('Female',0,inplace=True)\n",
    "\n",
    "train['Married'].replace('No',0,inplace=True)\n",
    "train['Married'].replace('Yes',1,inplace=True)\n",
    "\n",
    "train['Education'].replace('Graduate',1,inplace=True)\n",
    "train['Education'].replace('Not Graduate',0,inplace=True)\n",
    "\n",
    "train['Self_Employed'].replace('No',1,inplace=True)\n",
    "train['Self_Employed'].replace('Yes',0,inplace=True)\n",
    "\n",
    "train['Loan_Status'].replace('N',1,inplace=True)\n",
    "train['Loan_Status'].replace('Y',0,inplace=True)"
   ]
  },
  {
   "cell_type": "code",
   "execution_count": 68,
   "metadata": {
    "collapsed": true,
    "scrolled": true
   },
   "outputs": [],
   "source": [
    "test['Gender'].replace('Male',1,inplace=True)\n",
    "test['Gender'].replace('Female',0,inplace=True)\n",
    "\n",
    "test['Married'].replace('No',0,inplace=True)\n",
    "test['Married'].replace('Yes',1,inplace=True)\n",
    "\n",
    "test['Education'].replace('Graduate',1,inplace=True)\n",
    "test['Education'].replace('Not Graduate',0,inplace=True)\n",
    "\n",
    "test['Self_Employed'].replace('No',1,inplace=True)\n",
    "test['Self_Employed'].replace('Yes',0,inplace=True)"
   ]
  },
  {
   "cell_type": "code",
   "execution_count": 69,
   "metadata": {
    "collapsed": true,
    "scrolled": true
   },
   "outputs": [],
   "source": [
    "X = train\n",
    "X = pd.get_dummies(X)"
   ]
  },
  {
   "cell_type": "markdown",
   "metadata": {},
   "source": [
    "### Correlation"
   ]
  },
  {
   "cell_type": "code",
   "execution_count": 70,
   "metadata": {},
   "outputs": [
    {
     "data": {
      "text/html": [
       "<div>\n",
       "<style>\n",
       "    .dataframe thead tr:only-child th {\n",
       "        text-align: right;\n",
       "    }\n",
       "\n",
       "    .dataframe thead th {\n",
       "        text-align: left;\n",
       "    }\n",
       "\n",
       "    .dataframe tbody tr th {\n",
       "        vertical-align: top;\n",
       "    }\n",
       "</style>\n",
       "<table border=\"1\" class=\"dataframe\">\n",
       "  <thead>\n",
       "    <tr style=\"text-align: right;\">\n",
       "      <th></th>\n",
       "      <th>Gender</th>\n",
       "      <th>Married</th>\n",
       "      <th>Education</th>\n",
       "      <th>Self_Employed</th>\n",
       "      <th>ApplicantIncome</th>\n",
       "      <th>CoapplicantIncome</th>\n",
       "      <th>LoanAmount</th>\n",
       "      <th>Loan_Amount_Term</th>\n",
       "      <th>Credit_History</th>\n",
       "      <th>Loan_Status</th>\n",
       "      <th>sum_income</th>\n",
       "      <th>ratio</th>\n",
       "    </tr>\n",
       "  </thead>\n",
       "  <tbody>\n",
       "    <tr>\n",
       "      <th>Gender</th>\n",
       "      <td>1.000000</td>\n",
       "      <td>0.367926</td>\n",
       "      <td>-0.044560</td>\n",
       "      <td>0.001284</td>\n",
       "      <td>0.061997</td>\n",
       "      <td>0.082028</td>\n",
       "      <td>0.108139</td>\n",
       "      <td>-0.082177</td>\n",
       "      <td>0.010004</td>\n",
       "      <td>-0.019381</td>\n",
       "      <td>0.095791</td>\n",
       "      <td>-0.107323</td>\n",
       "    </tr>\n",
       "    <tr>\n",
       "      <th>Married</th>\n",
       "      <td>0.367926</td>\n",
       "      <td>1.000000</td>\n",
       "      <td>-0.014223</td>\n",
       "      <td>-0.005904</td>\n",
       "      <td>0.051332</td>\n",
       "      <td>0.077770</td>\n",
       "      <td>0.146981</td>\n",
       "      <td>-0.102624</td>\n",
       "      <td>0.009481</td>\n",
       "      <td>-0.089280</td>\n",
       "      <td>0.083776</td>\n",
       "      <td>-0.016513</td>\n",
       "    </tr>\n",
       "    <tr>\n",
       "      <th>Education</th>\n",
       "      <td>-0.044560</td>\n",
       "      <td>-0.014223</td>\n",
       "      <td>1.000000</td>\n",
       "      <td>-0.011414</td>\n",
       "      <td>0.140590</td>\n",
       "      <td>0.063585</td>\n",
       "      <td>0.166859</td>\n",
       "      <td>0.073701</td>\n",
       "      <td>0.072670</td>\n",
       "      <td>-0.084286</td>\n",
       "      <td>0.161765</td>\n",
       "      <td>-0.082658</td>\n",
       "    </tr>\n",
       "    <tr>\n",
       "      <th>Self_Employed</th>\n",
       "      <td>0.001284</td>\n",
       "      <td>-0.005904</td>\n",
       "      <td>-0.011414</td>\n",
       "      <td>1.000000</td>\n",
       "      <td>-0.127550</td>\n",
       "      <td>0.017019</td>\n",
       "      <td>-0.115501</td>\n",
       "      <td>0.033421</td>\n",
       "      <td>0.000757</td>\n",
       "      <td>-0.002404</td>\n",
       "      <td>-0.112919</td>\n",
       "      <td>0.069384</td>\n",
       "    </tr>\n",
       "    <tr>\n",
       "      <th>ApplicantIncome</th>\n",
       "      <td>0.061997</td>\n",
       "      <td>0.051332</td>\n",
       "      <td>0.140590</td>\n",
       "      <td>-0.127550</td>\n",
       "      <td>1.000000</td>\n",
       "      <td>-0.116266</td>\n",
       "      <td>0.566037</td>\n",
       "      <td>-0.044361</td>\n",
       "      <td>-0.018900</td>\n",
       "      <td>0.005154</td>\n",
       "      <td>0.893069</td>\n",
       "      <td>-0.312072</td>\n",
       "    </tr>\n",
       "    <tr>\n",
       "      <th>CoapplicantIncome</th>\n",
       "      <td>0.082028</td>\n",
       "      <td>0.077770</td>\n",
       "      <td>0.063585</td>\n",
       "      <td>0.017019</td>\n",
       "      <td>-0.116266</td>\n",
       "      <td>1.000000</td>\n",
       "      <td>0.188147</td>\n",
       "      <td>-0.059135</td>\n",
       "      <td>0.012093</td>\n",
       "      <td>0.057733</td>\n",
       "      <td>0.343035</td>\n",
       "      <td>-0.199788</td>\n",
       "    </tr>\n",
       "    <tr>\n",
       "      <th>LoanAmount</th>\n",
       "      <td>0.108139</td>\n",
       "      <td>0.146981</td>\n",
       "      <td>0.166859</td>\n",
       "      <td>-0.115501</td>\n",
       "      <td>0.566037</td>\n",
       "      <td>0.188147</td>\n",
       "      <td>1.000000</td>\n",
       "      <td>0.036135</td>\n",
       "      <td>-0.001633</td>\n",
       "      <td>0.036789</td>\n",
       "      <td>0.620551</td>\n",
       "      <td>0.151620</td>\n",
       "    </tr>\n",
       "    <tr>\n",
       "      <th>Loan_Amount_Term</th>\n",
       "      <td>-0.082177</td>\n",
       "      <td>-0.102624</td>\n",
       "      <td>0.073701</td>\n",
       "      <td>0.033421</td>\n",
       "      <td>-0.044361</td>\n",
       "      <td>-0.059135</td>\n",
       "      <td>0.036135</td>\n",
       "      <td>1.000000</td>\n",
       "      <td>-0.005291</td>\n",
       "      <td>0.023619</td>\n",
       "      <td>-0.068741</td>\n",
       "      <td>0.156147</td>\n",
       "    </tr>\n",
       "    <tr>\n",
       "      <th>Credit_History</th>\n",
       "      <td>0.010004</td>\n",
       "      <td>0.009481</td>\n",
       "      <td>0.072670</td>\n",
       "      <td>0.000757</td>\n",
       "      <td>-0.018900</td>\n",
       "      <td>0.012093</td>\n",
       "      <td>-0.001633</td>\n",
       "      <td>-0.005291</td>\n",
       "      <td>1.000000</td>\n",
       "      <td>-0.540021</td>\n",
       "      <td>-0.012396</td>\n",
       "      <td>-0.038848</td>\n",
       "    </tr>\n",
       "    <tr>\n",
       "      <th>Loan_Status</th>\n",
       "      <td>-0.019381</td>\n",
       "      <td>-0.089280</td>\n",
       "      <td>-0.084286</td>\n",
       "      <td>-0.002404</td>\n",
       "      <td>0.005154</td>\n",
       "      <td>0.057733</td>\n",
       "      <td>0.036789</td>\n",
       "      <td>0.023619</td>\n",
       "      <td>-0.540021</td>\n",
       "      <td>1.000000</td>\n",
       "      <td>0.031027</td>\n",
       "      <td>0.093346</td>\n",
       "    </tr>\n",
       "    <tr>\n",
       "      <th>sum_income</th>\n",
       "      <td>0.095791</td>\n",
       "      <td>0.083776</td>\n",
       "      <td>0.161765</td>\n",
       "      <td>-0.112919</td>\n",
       "      <td>0.893069</td>\n",
       "      <td>0.343035</td>\n",
       "      <td>0.620551</td>\n",
       "      <td>-0.068741</td>\n",
       "      <td>-0.012396</td>\n",
       "      <td>0.031027</td>\n",
       "      <td>1.000000</td>\n",
       "      <td>-0.385640</td>\n",
       "    </tr>\n",
       "    <tr>\n",
       "      <th>ratio</th>\n",
       "      <td>-0.107323</td>\n",
       "      <td>-0.016513</td>\n",
       "      <td>-0.082658</td>\n",
       "      <td>0.069384</td>\n",
       "      <td>-0.312072</td>\n",
       "      <td>-0.199788</td>\n",
       "      <td>0.151620</td>\n",
       "      <td>0.156147</td>\n",
       "      <td>-0.038848</td>\n",
       "      <td>0.093346</td>\n",
       "      <td>-0.385640</td>\n",
       "      <td>1.000000</td>\n",
       "    </tr>\n",
       "  </tbody>\n",
       "</table>\n",
       "</div>"
      ],
      "text/plain": [
       "                     Gender   Married  Education  Self_Employed  \\\n",
       "Gender             1.000000  0.367926  -0.044560       0.001284   \n",
       "Married            0.367926  1.000000  -0.014223      -0.005904   \n",
       "Education         -0.044560 -0.014223   1.000000      -0.011414   \n",
       "Self_Employed      0.001284 -0.005904  -0.011414       1.000000   \n",
       "ApplicantIncome    0.061997  0.051332   0.140590      -0.127550   \n",
       "CoapplicantIncome  0.082028  0.077770   0.063585       0.017019   \n",
       "LoanAmount         0.108139  0.146981   0.166859      -0.115501   \n",
       "Loan_Amount_Term  -0.082177 -0.102624   0.073701       0.033421   \n",
       "Credit_History     0.010004  0.009481   0.072670       0.000757   \n",
       "Loan_Status       -0.019381 -0.089280  -0.084286      -0.002404   \n",
       "sum_income         0.095791  0.083776   0.161765      -0.112919   \n",
       "ratio             -0.107323 -0.016513  -0.082658       0.069384   \n",
       "\n",
       "                   ApplicantIncome  CoapplicantIncome  LoanAmount  \\\n",
       "Gender                    0.061997           0.082028    0.108139   \n",
       "Married                   0.051332           0.077770    0.146981   \n",
       "Education                 0.140590           0.063585    0.166859   \n",
       "Self_Employed            -0.127550           0.017019   -0.115501   \n",
       "ApplicantIncome           1.000000          -0.116266    0.566037   \n",
       "CoapplicantIncome        -0.116266           1.000000    0.188147   \n",
       "LoanAmount                0.566037           0.188147    1.000000   \n",
       "Loan_Amount_Term         -0.044361          -0.059135    0.036135   \n",
       "Credit_History           -0.018900           0.012093   -0.001633   \n",
       "Loan_Status               0.005154           0.057733    0.036789   \n",
       "sum_income                0.893069           0.343035    0.620551   \n",
       "ratio                    -0.312072          -0.199788    0.151620   \n",
       "\n",
       "                   Loan_Amount_Term  Credit_History  Loan_Status  sum_income  \\\n",
       "Gender                    -0.082177        0.010004    -0.019381    0.095791   \n",
       "Married                   -0.102624        0.009481    -0.089280    0.083776   \n",
       "Education                  0.073701        0.072670    -0.084286    0.161765   \n",
       "Self_Employed              0.033421        0.000757    -0.002404   -0.112919   \n",
       "ApplicantIncome           -0.044361       -0.018900     0.005154    0.893069   \n",
       "CoapplicantIncome         -0.059135        0.012093     0.057733    0.343035   \n",
       "LoanAmount                 0.036135       -0.001633     0.036789    0.620551   \n",
       "Loan_Amount_Term           1.000000       -0.005291     0.023619   -0.068741   \n",
       "Credit_History            -0.005291        1.000000    -0.540021   -0.012396   \n",
       "Loan_Status                0.023619       -0.540021     1.000000    0.031027   \n",
       "sum_income                -0.068741       -0.012396     0.031027    1.000000   \n",
       "ratio                      0.156147       -0.038848     0.093346   -0.385640   \n",
       "\n",
       "                      ratio  \n",
       "Gender            -0.107323  \n",
       "Married           -0.016513  \n",
       "Education         -0.082658  \n",
       "Self_Employed      0.069384  \n",
       "ApplicantIncome   -0.312072  \n",
       "CoapplicantIncome -0.199788  \n",
       "LoanAmount         0.151620  \n",
       "Loan_Amount_Term   0.156147  \n",
       "Credit_History    -0.038848  \n",
       "Loan_Status        0.093346  \n",
       "sum_income        -0.385640  \n",
       "ratio              1.000000  "
      ]
     },
     "execution_count": 70,
     "metadata": {},
     "output_type": "execute_result"
    },
    {
     "data": {
      "image/png": "[encoded data removed]",
      "text/plain": [
       "<matplotlib.figure.Figure at 0x1019ea58>"
      ]
     },
     "metadata": {},
     "output_type": "display_data"
    }
   ],
   "source": [
    "corr = train.corr()\n",
    "corr = (corr)\n",
    "sns.heatmap(corr, \n",
    "            xticklabels=corr.columns.values,\n",
    "            yticklabels=corr.columns.values)\n",
    "sns.plt.title('Heatmap of Correlation Matrix')\n",
    "corr"
   ]
  },
  {
   "cell_type": "markdown",
   "metadata": {},
   "source": [
    "### Train and Test data separation"
   ]
  },
  {
   "cell_type": "code",
   "execution_count": 71,
   "metadata": {
    "collapsed": true
   },
   "outputs": [],
   "source": [
    "X_train = X.drop(\"Loan_Status\",axis=1)\n",
    "Y_train = X[\"Loan_Status\"]\n",
    "X_test  = test\n",
    "from sklearn.model_selection import train_test_split\n",
    "x_train, x_test, y_train, y_test = train_test_split(X_train, Y_train, test_size=0.2)"
   ]
  },
  {
   "cell_type": "markdown",
   "metadata": {},
   "source": [
    "## Logistic Regression"
   ]
  },
  {
   "cell_type": "code",
   "execution_count": 72,
   "metadata": {
    "collapsed": true
   },
   "outputs": [],
   "source": [
    "#Logistic Regression\n",
    "from sklearn.linear_model import LogisticRegression\n",
    "model = LogisticRegression()\n",
    "model.fit(X_train, Y_train)\n",
    "y_pred = model.predict(x_test)"
   ]
  },
  {
   "cell_type": "markdown",
   "metadata": {},
   "source": [
    "#### ROC Curve"
   ]
  },
  {
   "cell_type": "code",
   "execution_count": 73,
   "metadata": {
    "scrolled": false
   },
   "outputs": [
    {
     "data": {
      "image/png": "[encoded data removed]",
      "text/plain": [
       "<matplotlib.figure.Figure at 0x1004fa20>"
      ]
     },
     "metadata": {},
     "output_type": "display_data"
    }
   ],
   "source": [
    "#ROC Curve\n",
    "from sklearn import metrics\n",
    "a=model.predict_proba(x_test)[:,1]\n",
    "fpr, tpr, _ = metrics.roc_curve(y_test, a)\n",
    "df = pd.DataFrame(dict(fpr=fpr, tpr=tpr))\n",
    "plt.plot(tpr)\n",
    "plt.show()"
   ]
  },
  {
   "cell_type": "markdown",
   "metadata": {},
   "source": [
    "#### Using Inbuilt Funtion"
   ]
  },
  {
   "cell_type": "code",
   "execution_count": 74,
   "metadata": {},
   "outputs": [
    {
     "name": "stdout",
     "output_type": "stream",
     "text": [
      "Confusion Metrix :\n",
      "[[84  1]\n",
      " [19 19]]\n"
     ]
    }
   ],
   "source": [
    "from sklearn.metrics import confusion_matrix\n",
    "from sklearn.metrics import auc\n",
    "print('Confusion Metrix :')\n",
    "print(confusion_matrix(y_test,y_pred))"
   ]
  },
  {
   "cell_type": "markdown",
   "metadata": {},
   "source": [
    "#### Manually"
   ]
  },
  {
   "cell_type": "code",
   "execution_count": 75,
   "metadata": {},
   "outputs": [
    {
     "name": "stdout",
     "output_type": "stream",
     "text": [
      "TP : 19.0\n",
      "FP : 19.0\n",
      "TN : 84.0\n",
      "FN : 1.0\n",
      "Accuracy : 0.837398373984\n",
      "Precision : 0.5\n",
      "Recall : 0.95\n",
      "AUC : 0.841176470588\n",
      "F1 Score : 0.655172413793\n"
     ]
    }
   ],
   "source": [
    "Y_train = np.array(y_test)\n",
    "tp=0.0\n",
    "fp=0.0\n",
    "fn=0.0\n",
    "tn=0.0\n",
    "for i in range(y_pred.size):\n",
    "    if y_pred[i]==1 and Y_train[i]==1:\n",
    "        tp = tp+1\n",
    "    if y_pred[i]==1 and Y_train[i]==0:\n",
    "        fn = fn+1\n",
    "    if y_pred[i]==0 and Y_train[i]==0:\n",
    "        tn=tn+1\n",
    "    if y_pred[i]==0 and Y_train[i]==1:\n",
    "        fp = fp+1\n",
    "print('TP : '+str(tp))\n",
    "print('FP : '+str(fp))\n",
    "print('TN : '+str(tn))\n",
    "print('FN : '+str(fn))\n",
    "\n",
    "accuracy = (tp+tn)/(tp+fp+tn+fn)\n",
    "precision = tp / (tp+fp)\n",
    "recall = tp / (tp+fn)\n",
    "\n",
    "print('Accuracy : '+str(accuracy))\n",
    "print('Precision : '+str(precision))\n",
    "print('Recall : '+str(recall))\n",
    "print('AUC : '+str(auc(fpr, tpr)))\n",
    "F1_Score = 2*(recall * precision) / (recall + precision)\n",
    "print('F1 Score : '+str(F1_Score))"
   ]
  },
  {
   "cell_type": "markdown",
   "metadata": {},
   "source": [
    "## Decision Tree"
   ]
  },
  {
   "cell_type": "code",
   "execution_count": 76,
   "metadata": {
    "collapsed": true
   },
   "outputs": [],
   "source": [
    "from sklearn import tree\n",
    "model = tree.DecisionTreeClassifier()\n",
    "fit_model = model.fit(x_train, y_train)\n",
    "y_pred = model.predict(x_test)"
   ]
  },
  {
   "cell_type": "markdown",
   "metadata": {},
   "source": [
    "#### ROC Curve"
   ]
  },
  {
   "cell_type": "code",
   "execution_count": 77,
   "metadata": {},
   "outputs": [
    {
     "name": "stdout",
     "output_type": "stream",
     "text": [
      "Confusion Metrix :\n",
      "[[70 15]\n",
      " [14 24]]\n",
      "TP : 24.0\n",
      "FP : 14.0\n",
      "TN : 70.0\n",
      "FN : 15.0\n",
      "Accuracy : 0.764227642276\n",
      "Precision : 0.631578947368\n",
      "Recall : 0.615384615385\n",
      "AUC : 0.841176470588\n",
      "F1 Score : 0.623376623377\n"
     ]
    }
   ],
   "source": [
    "from sklearn.metrics import confusion_matrix\n",
    "from sklearn.metrics import auc\n",
    "print('Confusion Metrix :')\n",
    "print(confusion_matrix(y_test,y_pred))\n",
    "Y_train = np.array(y_test)\n",
    "tp=0.0\n",
    "fp=0.0\n",
    "fn=0.0\n",
    "tn=0.0\n",
    "for i in range(y_pred.size):\n",
    "    if y_pred[i]==1 and Y_train[i]==1:\n",
    "        tp = tp+1\n",
    "    if y_pred[i]==1 and Y_train[i]==0:\n",
    "        fn = fn+1\n",
    "    if y_pred[i]==0 and Y_train[i]==0:\n",
    "        tn=tn+1\n",
    "    if y_pred[i]==0 and Y_train[i]==1:\n",
    "        fp = fp+1\n",
    "print('TP : '+str(tp))\n",
    "print('FP : '+str(fp))\n",
    "print('TN : '+str(tn))\n",
    "print('FN : '+str(fn))\n",
    "\n",
    "accuracy = (tp+tn)/(tp+fp+tn+fn)\n",
    "precision = tp / (tp+fp)\n",
    "recall = tp / (tp+fn)\n",
    "\n",
    "print('Accuracy : '+str(accuracy))\n",
    "print('Precision : '+str(precision))\n",
    "print('Recall : '+str(recall))\n",
    "print('AUC : '+str(auc(fpr, tpr)))\n",
    "F1_Score = 2*(recall * precision) / (recall + precision)\n",
    "print('F1 Score : '+str(F1_Score))"
   ]
  },
  {
   "cell_type": "markdown",
   "metadata": {},
   "source": [
    "## KNN(K-Nearest Neighbour Algorithm)"
   ]
  },
  {
   "cell_type": "code",
   "execution_count": 78,
   "metadata": {
    "collapsed": true
   },
   "outputs": [],
   "source": [
    "from sklearn.neighbors import KNeighborsClassifier\n",
    "model=KNeighborsClassifier(n_neighbors=5) # default value for n_neighbors is 5\n",
    "model.fit(x_train, y_train)\n",
    "y_pred = model.predict(x_test)"
   ]
  },
  {
   "cell_type": "markdown",
   "metadata": {},
   "source": [
    "#### ROC Curve"
   ]
  },
  {
   "cell_type": "code",
   "execution_count": 79,
   "metadata": {},
   "outputs": [
    {
     "data": {
      "image/png": "[encoded data removed]",
      "text/plain": [
       "<matplotlib.figure.Figure at 0x107189e8>"
      ]
     },
     "metadata": {},
     "output_type": "display_data"
    }
   ],
   "source": [
    "from sklearn import metrics\n",
    "a=model.predict_proba(x_test)[:,1]\n",
    "fpr, tpr, _ = metrics.roc_curve(y_test, a)\n",
    "df = pd.DataFrame(dict(fpr=fpr, tpr=tpr))\n",
    "plt.plot(tpr)\n",
    "plt.show()"
   ]
  },
  {
   "cell_type": "code",
   "execution_count": 80,
   "metadata": {},
   "outputs": [
    {
     "name": "stdout",
     "output_type": "stream",
     "text": [
      "Confusion Metrix :\n",
      "[[68 17]\n",
      " [31  7]]\n",
      "TP : 7.0\n",
      "FP : 31.0\n",
      "TN : 68.0\n",
      "FN : 17.0\n",
      "Accuracy : 0.609756097561\n",
      "Precision : 0.184210526316\n",
      "Recall : 0.291666666667\n",
      "AUC : 0.508513931889\n",
      "F1 Score : 0.225806451613\n"
     ]
    }
   ],
   "source": [
    "from sklearn.metrics import confusion_matrix\n",
    "from sklearn.metrics import auc\n",
    "print('Confusion Metrix :')\n",
    "print(confusion_matrix(y_test,y_pred))\n",
    "Y_train = np.array(y_test)\n",
    "tp=0.0\n",
    "fp=0.0\n",
    "fn=0.0\n",
    "tn=0.0\n",
    "for i in range(y_pred.size):\n",
    "    if y_pred[i]==1 and Y_train[i]==1:\n",
    "        tp = tp+1\n",
    "    if y_pred[i]==1 and Y_train[i]==0:\n",
    "        fn = fn+1\n",
    "    if y_pred[i]==0 and Y_train[i]==0:\n",
    "        tn=tn+1\n",
    "    if y_pred[i]==0 and Y_train[i]==1:\n",
    "        fp = fp+1\n",
    "print('TP : '+str(tp))\n",
    "print('FP : '+str(fp))\n",
    "print('TN : '+str(tn))\n",
    "print('FN : '+str(fn))\n",
    "\n",
    "accuracy = (tp+tn)/(tp+fp+tn+fn)\n",
    "precision = tp / (tp+fp)\n",
    "recall = tp / (tp+fn)\n",
    "\n",
    "print('Accuracy : '+str(accuracy))\n",
    "print('Precision : '+str(precision))\n",
    "print('Recall : '+str(recall))\n",
    "print('AUC : '+str(auc(fpr, tpr)))\n",
    "F1_Score = 2*(recall * precision) / (recall + precision)\n",
    "print('F1 Score : '+str(F1_Score))"
   ]
  },
  {
   "cell_type": "markdown",
   "metadata": {},
   "source": [
    "## Random Forest"
   ]
  },
  {
   "cell_type": "code",
   "execution_count": 81,
   "metadata": {
    "collapsed": true
   },
   "outputs": [],
   "source": [
    "from sklearn.ensemble import RandomForestClassifier\n",
    "model= RandomForestClassifier()\n",
    "model.fit(x_train, y_train)\n",
    "y_pred= model.predict(x_test)"
   ]
  },
  {
   "cell_type": "markdown",
   "metadata": {},
   "source": [
    "#### ROC Curve"
   ]
  },
  {
   "cell_type": "code",
   "execution_count": 82,
   "metadata": {
    "scrolled": true
   },
   "outputs": [
    {
     "data": {
      "image/png": "[encoded data removed]",
      "text/plain": [
       "<matplotlib.figure.Figure at 0x10cf7a20>"
      ]
     },
     "metadata": {},
     "output_type": "display_data"
    }
   ],
   "source": [
    "from sklearn import metrics\n",
    "a=model.predict_proba(x_test)[:,1]\n",
    "fpr, tpr, _ = metrics.roc_curve(y_test, a)\n",
    "df = pd.DataFrame(dict(fpr=fpr, tpr=tpr))\n",
    "plt.plot(tpr)\n",
    "plt.show()"
   ]
  },
  {
   "cell_type": "code",
   "execution_count": 83,
   "metadata": {},
   "outputs": [
    {
     "name": "stdout",
     "output_type": "stream",
     "text": [
      "Confusion Metrix :\n",
      "[[81  4]\n",
      " [18 20]]\n",
      "TP : 20.0\n",
      "FP : 18.0\n",
      "TN : 81.0\n",
      "FN : 4.0\n",
      "Accuracy : 0.821138211382\n",
      "Precision : 0.526315789474\n",
      "Recall : 0.833333333333\n",
      "AUC : 0.800309597523\n",
      "F1 Score : 0.645161290323\n"
     ]
    }
   ],
   "source": [
    "from sklearn.metrics import confusion_matrix\n",
    "from sklearn.metrics import auc\n",
    "print('Confusion Metrix :')\n",
    "print(confusion_matrix(y_test,y_pred))\n",
    "Y_train = np.array(y_test)\n",
    "tp=0.0\n",
    "fp=0.0\n",
    "fn=0.0\n",
    "tn=0.0\n",
    "for i in range(y_pred.size):\n",
    "    if y_pred[i]==1 and Y_train[i]==1:\n",
    "        tp = tp+1\n",
    "    if y_pred[i]==1 and Y_train[i]==0:\n",
    "        fn = fn+1\n",
    "    if y_pred[i]==0 and Y_train[i]==0:\n",
    "        tn=tn+1\n",
    "    if y_pred[i]==0 and Y_train[i]==1:\n",
    "        fp = fp+1\n",
    "print('TP : '+str(tp))\n",
    "print('FP : '+str(fp))\n",
    "print('TN : '+str(tn))\n",
    "print('FN : '+str(fn))\n",
    "\n",
    "accuracy = (tp+tn)/(tp+fp+tn+fn)\n",
    "precision = tp / (tp+fp)\n",
    "recall = tp / (tp+fn)\n",
    "\n",
    "print('Accuracy : '+str(accuracy))\n",
    "print('Precision : '+str(precision))\n",
    "print('Recall : '+str(recall))\n",
    "print('AUC : '+str(auc(fpr, tpr)))\n",
    "F1_Score = 2*(recall * precision) / (recall + precision)\n",
    "print('F1 Score : '+str(F1_Score))"
   ]
  }
 ],
 "metadata": {
  "kernelspec": {
   "display_name": "Python 2",
   "language": "python",
   "name": "python2"
  },
  "language_info": {
   "codemirror_mode": {
    "name": "ipython",
    "version": 2
   },
   "file_extension": ".py",
   "mimetype": "text/x-python",
   "name": "python",
   "nbconvert_exporter": "python",
   "pygments_lexer": "ipython2",
   "version": "2.7.13"
  }
 },
 "nbformat": 4,
 "nbformat_minor": 2
}
