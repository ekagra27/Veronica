{
 "cells": [
  {
   "cell_type": "code",
   "execution_count": 1,
   "metadata": {
    "collapsed": true
   },
   "outputs": [],
   "source": [
    "import pandas as pd\n",
    "from pandas import Series,DataFrame\n",
    "import matplotlib.pyplot as plt\n",
    "import numpy as np\n",
    "import seaborn as sns\n",
    "%matplotlib inline\n",
    "from sklearn import datasets, linear_model\n",
    "from sklearn.metrics import mean_squared_error, r2_score"
   ]
  },
  {
   "cell_type": "code",
   "execution_count": 2,
   "metadata": {
    "collapsed": true
   },
   "outputs": [],
   "source": [
    "train = pd.read_csv(\"C:/Users/Rohit/Downloads/Train_Big_Mart.csv\")\n",
    "test = pd.read_csv(\"C:/Users/Rohit/Downloads/Test_Big_Mart.csv\")"
   ]
  },
  {
   "cell_type": "code",
   "execution_count": 3,
   "metadata": {
    "collapsed": true
   },
   "outputs": [],
   "source": [
    "train['Item_Fat_Content'] = train['Item_Fat_Content'].replace(['LF','Low Fat'],'low fat')\n",
    "train['Item_Fat_Content'] = train['Item_Fat_Content'].replace('reg','Regular')\n",
    "test['Item_Fat_Content'] = test['Item_Fat_Content'].replace(['LF','Low Fat'],'low fat')\n",
    "test['Item_Fat_Content'] = test['Item_Fat_Content'].replace('reg','Regular')"
   ]
  },
  {
   "cell_type": "code",
   "execution_count": 4,
   "metadata": {
    "collapsed": true
   },
   "outputs": [],
   "source": [
    "train['Item_Outlet_Age'] = 2013 - train['Outlet_Establishment_Year']\n",
    "train.drop('Outlet_Establishment_Year', axis=1, inplace=True)\n",
    "test['Item_Outlet_Age'] = 2013 - test['Outlet_Establishment_Year']\n",
    "test.drop('Outlet_Establishment_Year', axis=1, inplace=True)\n"
   ]
  },
  {
   "cell_type": "code",
   "execution_count": null,
   "metadata": {},
   "outputs": [
    {
     "name": "stderr",
     "output_type": "stream",
     "text": [
      "C:\\ProgramData\\Anaconda2\\lib\\site-packages\\ipykernel_launcher.py:12: SettingWithCopyWarning: \n",
      "A value is trying to be set on a copy of a slice from a DataFrame\n",
      "\n",
      "See the caveats in the documentation: http://pandas.pydata.org/pandas-docs/stable/indexing.html#indexing-view-versus-copy\n",
      "  if sys.path[0] == '':\n"
     ]
    }
   ],
   "source": [
    "train['Item_Weight'] = train['Item_Weight'].fillna(0)\n",
    "test['Item_Weight'] = test['Item_Weight'].fillna(0)\n",
    "s=''\n",
    "value=0\n",
    "for i in range(train['Item_Type'].count()):\n",
    "    if (train['Item_Weight'][i]==0):\n",
    "        s = train['Item_Identifier'][i]\n",
    "    for i in range(train['Item_Type'].count()):\n",
    "        if (train['Item_Weight'][i]>0 and train['Item_Identifier'][i] ==s):\n",
    "            value= train['Item_Weight'][i]\n",
    "            break\n",
    "    train['Item_Weight'][i]=value\n",
    "s=''\n",
    "value=0\n",
    "for i in range(test['Item_Type'].count()):\n",
    "    if (test['Item_Weight'][i]==0):\n",
    "        s = test['Item_Identifier'][i]\n",
    "    for i in range(test['Item_Type'].count()):\n",
    "        if (test['Item_Weight'][i]>0 and test  ['Item_Identifier'][i] ==s):\n",
    "            value= test['Item_Weight'][i]\n",
    "            break\n",
    "    train['Item_Weight'][i]=value"
   ]
  },
  {
   "cell_type": "code",
   "execution_count": null,
   "metadata": {
    "collapsed": true
   },
   "outputs": [],
   "source": [
    "# train['Item_Weight']=train['Item_Weight'].fillna(train['Item_Weight'].mean())\n",
    "# test['Item_Weight']=test['Item_Weight'].fillna(test['Item_Weight'].mean())"
   ]
  },
  {
   "cell_type": "code",
   "execution_count": null,
   "metadata": {
    "collapsed": true
   },
   "outputs": [],
   "source": [
    "train.drop('Item_Identifier',axis=1,inplace = True)\n",
    "test.drop('Item_Identifier',axis=1,inplace = True)"
   ]
  },
  {
   "cell_type": "code",
   "execution_count": 209,
   "metadata": {
    "collapsed": true
   },
   "outputs": [],
   "source": [
    "train['Outlet_Size'] = train['Outlet_Size'].fillna('yolo')\n",
    "test['Outlet_Size'] = test['Outlet_Size'].fillna('yolo')"
   ]
  },
  {
   "cell_type": "code",
   "execution_count": 210,
   "metadata": {
    "collapsed": true
   },
   "outputs": [],
   "source": [
    "X = pd.get_dummies(train)\n",
    "test = pd.get_dummies(test)"
   ]
  },
  {
   "cell_type": "code",
   "execution_count": 212,
   "metadata": {
    "collapsed": true
   },
   "outputs": [],
   "source": [
    "X_train = X.drop(\"Item_Outlet_Sales\",axis=1)\n",
    "Y_train = X[\"Item_Outlet_Sales\"]\n",
    "X_test  = test#.drop(\"Loan_Status\",axis=1).copy()"
   ]
  },
  {
   "cell_type": "code",
   "execution_count": 213,
   "metadata": {
    "collapsed": true
   },
   "outputs": [],
   "source": [
    "from sklearn.model_selection import train_test_split\n",
    "x_train, x_test, y_train, y_test = train_test_split(X_train, Y_train, test_size=0.2)"
   ]
  },
  {
   "cell_type": "code",
   "execution_count": 214,
   "metadata": {
    "collapsed": true
   },
   "outputs": [],
   "source": [
    "#Linear Regression Model\n",
    "regr = linear_model.LinearRegression()\n",
    "regr.fit(x_train,y_train)\n",
    "y_pred = regr.predict(x_test)"
   ]
  },
  {
   "cell_type": "code",
   "execution_count": 215,
   "metadata": {},
   "outputs": [
    {
     "name": "stdout",
     "output_type": "stream",
     "text": [
      "('R Square : ', 0.54540632303069136)\n",
      "('Adjusted R Square : ', 0.53363779316333426)\n",
      "('MAE : ', 851.93210861810405)\n",
      "('MSE : ', 1312748.6606581942)\n",
      "('RMSE : ', 1145.7524430077356)\n"
     ]
    }
   ],
   "source": [
    "from sklearn.metrics import mean_absolute_error\n",
    "mse = mean_squared_error(y_test, y_pred)\n",
    "rmse = np.sqrt(mean_squared_error(y_test, y_pred))\n",
    "mae = mean_absolute_error(y_test,y_pred)\n",
    "print ('R Square : ',regr.score(x_test, y_test))\n",
    "print ('Adjusted R Square : ',1 - (1-regr.score(x_test, y_test))*(len(y_test)-1)/(len(y_test)-x_test.shape[1]-1))\n",
    "print('MAE : ', mae)\n",
    "print('MSE : ', mse)\n",
    "print('RMSE : ', rmse)"
   ]
  },
  {
   "cell_type": "code",
   "execution_count": 216,
   "metadata": {
    "collapsed": true
   },
   "outputs": [],
   "source": [
    "#Decision Tree\n",
    "from sklearn import tree\n",
    "model = tree.DecisionTreeRegressor() #for regression\n",
    "fit_model = model.fit(x_train, y_train)\n",
    "y_pred1 = model.predict(x_test)"
   ]
  },
  {
   "cell_type": "code",
   "execution_count": 217,
   "metadata": {},
   "outputs": [
    {
     "name": "stdout",
     "output_type": "stream",
     "text": [
      "('R Square : ', 0.17572220971828123)\n",
      "('Adjusted R Square : ', 0.1543832904033422)\n",
      "('MAE : ', 1071.1253725513195)\n",
      "('MSE : ', 2380300.5189526137)\n",
      "('RMSE : ', 1542.8222577317886)\n"
     ]
    }
   ],
   "source": [
    "mse = mean_squared_error(y_test, y_pred1)\n",
    "rmse = np.sqrt(mean_squared_error(y_test, y_pred1))\n",
    "mae = mean_absolute_error(y_test,y_pred1)\n",
    "print ('R Square : ',model.score(x_test, y_test))\n",
    "print ('Adjusted R Square : ',1 - (1-model.score(x_test, y_test))*(len(y_test)-1)/(len(y_test)-x_test.shape[1]-1))\n",
    "print('MAE : ', mae)\n",
    "print('MSE : ', mse)\n",
    "print('RMSE : ', rmse)"
   ]
  },
  {
   "cell_type": "code",
   "execution_count": 218,
   "metadata": {
    "collapsed": true
   },
   "outputs": [],
   "source": [
    "#KNN\n",
    "from sklearn.neighbors import KNeighborsRegressor\n",
    "model=KNeighborsRegressor(n_neighbors=5) # default value for n_neighbors is 5\n",
    "model.fit(x_train, y_train)\n",
    "y_pred2 = model.predict(x_test)"
   ]
  },
  {
   "cell_type": "code",
   "execution_count": 219,
   "metadata": {},
   "outputs": [
    {
     "name": "stdout",
     "output_type": "stream",
     "text": [
      "('R Square : ', 0.46263321159548965)\n",
      "('Adjusted R Square : ', 0.44872184982463237)\n",
      "('MAE : ', 888.70281102639296)\n",
      "('MSE : ', 1551775.9429985259)\n",
      "('RMSE : ', 1245.7029914865445)\n"
     ]
    }
   ],
   "source": [
    "mse = mean_squared_error(y_test, y_pred2)\n",
    "rmse = np.sqrt(mean_squared_error(y_test, y_pred2))\n",
    "mae = mean_absolute_error(y_test,y_pred2)\n",
    "print ('R Square : ',model.score(x_test, y_test))\n",
    "print ('Adjusted R Square : ',1 - (1-model.score(x_test, y_test))*(len(y_test)-1)/(len(y_test)-x_test.shape[1]-1))\n",
    "print('MAE : ', mae)\n",
    "print('MSE : ', mse)\n",
    "print('RMSE : ', rmse)"
   ]
  },
  {
   "cell_type": "code",
   "execution_count": 220,
   "metadata": {
    "collapsed": true
   },
   "outputs": [],
   "source": [
    "#Random Forest\n",
    "from sklearn.ensemble import RandomForestRegressor\n",
    "#Assumed you have, X (predictor) and Y (target) for training data set and x_test(predictor) of test_dataset\n",
    "# Create Random Forest object\n",
    "model= RandomForestRegressor()\n",
    "# Train the model using the training sets and check score\n",
    "model.fit(x_train, y_train)\n",
    "#Predict Output\n",
    "y_pred3= model.predict(x_test)"
   ]
  },
  {
   "cell_type": "code",
   "execution_count": 221,
   "metadata": {},
   "outputs": [
    {
     "name": "stdout",
     "output_type": "stream",
     "text": [
      "('R Square : ', 0.49717820049579675)\n",
      "('Adjusted R Square : ', 0.48416114006311717)\n",
      "('MAE : ', 843.70207239882689)\n",
      "('MSE : ', 1452018.9727439836)\n",
      "('RMSE : ', 1204.9974990612984)\n"
     ]
    }
   ],
   "source": [
    "mse = mean_squared_error(y_test, y_pred3)\n",
    "rmse = np.sqrt(mean_squared_error(y_test, y_pred3))\n",
    "mae = mean_absolute_error(y_test,y_pred3)\n",
    "print ('R Square : ',model.score(x_test, y_test))\n",
    "print ('Adjusted R Square : ',1 - (1-model.score(x_test, y_test))*(len(y_test)-1)/(len(y_test)-x_test.shape[1]-1))\n",
    "print('MAE : ', mae)\n",
    "print('MSE : ', mse)\n",
    "print('RMSE : ', rmse)"
   ]
  },
  {
   "cell_type": "code",
   "execution_count": 222,
   "metadata": {
    "collapsed": true
   },
   "outputs": [],
   "source": [
    "from sklearn.cluster import KMeans\n",
    "Ks = range(1, 10)\n",
    "km = [KMeans(n_clusters=i) for i in Ks]\n",
    "score = [km[i].fit(X_train).score(X_train) for i in range(len(km))]"
   ]
  },
  {
   "cell_type": "code",
   "execution_count": 223,
   "metadata": {},
   "outputs": [
    {
     "data": {
      "image/png": "[encoded data removed]",
      "text/plain": [
       "<matplotlib.figure.Figure at 0x12467c50>"
      ]
     },
     "metadata": {},
     "output_type": "display_data"
    }
   ],
   "source": [
    "plt.plot(score)\n",
    "plt.show()"
   ]
  },
  {
   "cell_type": "code",
   "execution_count": 224,
   "metadata": {},
   "outputs": [
    {
     "data": {
      "text/plain": [
       "[-33834977.651432335,\n",
       " -10283681.932491349,\n",
       " -5675140.8693167595,\n",
       " -2943036.4513565567,\n",
       " -2164443.6380237024,\n",
       " -1704492.4174165202,\n",
       " -1409872.7277420878,\n",
       " -1291359.4126713674,\n",
       " -1199939.8552156882]"
      ]
     },
     "execution_count": 224,
     "metadata": {},
     "output_type": "execute_result"
    }
   ],
   "source": [
    "score"
   ]
  },
  {
   "cell_type": "code",
   "execution_count": null,
   "metadata": {
    "collapsed": true
   },
   "outputs": [],
   "source": []
  }
 ],
 "metadata": {
  "kernelspec": {
   "display_name": "Python 2",
   "language": "python",
   "name": "python2"
  },
  "language_info": {
   "codemirror_mode": {
    "name": "ipython",
    "version": 2
   },
   "file_extension": ".py",
   "mimetype": "text/x-python",
   "name": "python",
   "nbconvert_exporter": "python",
   "pygments_lexer": "ipython2",
   "version": "2.7.13"
  }
 },
 "nbformat": 4,
 "nbformat_minor": 2
}
