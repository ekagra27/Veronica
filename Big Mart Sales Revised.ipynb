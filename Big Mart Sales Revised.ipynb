{
 "cells": [
  {
   "cell_type": "markdown",
   "metadata": {},
   "source": [
    "#                                            Big Mart Sales Prediction "
   ]
  },
  {
   "cell_type": "code",
   "execution_count": null,
   "metadata": {
    "collapsed": true
   },
   "outputs": [],
   "source": [
    "import pandas as pd\n",
    "from pandas import Series,DataFrame\n",
    "import matplotlib.pyplot as plt\n",
    "import numpy as np\n",
    "import seaborn as sns\n",
    "%matplotlib inline\n",
    "from sklearn import datasets, linear_model\n",
    "from sklearn.metrics import mean_squared_error, r2_score"
   ]
  },
  {
   "cell_type": "code",
   "execution_count": 2,
   "metadata": {
    "collapsed": true
   },
   "outputs": [],
   "source": [
    "train = pd.read_csv(\"C:/Users/Rohit/Downloads/Train_Big_Mart.csv\")\n",
    "test = pd.read_csv(\"C:/Users/Rohit/Downloads/Test_Big_Mart.csv\")"
   ]
  },
  {
   "cell_type": "markdown",
   "metadata": {},
   "source": [
    "## Feature Engineering Steps"
   ]
  },
  {
   "cell_type": "markdown",
   "metadata": {},
   "source": [
    "#### Item_Fat_Content\n",
    "Item_Fat_Content has five unique values ('LF', 'Low Fat', 'low fat', 'reg', 'Regular').\n",
    "It can be easily noticed that there are actually only two distinct values that are useful.\n",
    "Changing the values to only two types of values."
   ]
  },
  {
   "cell_type": "code",
   "execution_count": 3,
   "metadata": {
    "collapsed": true
   },
   "outputs": [],
   "source": [
    "train['Item_Fat_Content'] = train['Item_Fat_Content'].replace(['LF','Low Fat'],'low fat')\n",
    "train['Item_Fat_Content'] = train['Item_Fat_Content'].replace('reg','Regular')\n",
    "test['Item_Fat_Content'] = test['Item_Fat_Content'].replace(['LF','Low Fat'],'low fat')\n",
    "test['Item_Fat_Content'] = test['Item_Fat_Content'].replace('reg','Regular')"
   ]
  },
  {
   "cell_type": "markdown",
   "metadata": {},
   "source": [
    "#### Item_Outlet_Age\n",
    "This data can be used to find out the age of the outlet. I substracted the Outlet_Establishmenyt_Year by 2013 to get the Outlet age. (Given data is of year 2013.) "
   ]
  },
  {
   "cell_type": "code",
   "execution_count": 4,
   "metadata": {
    "collapsed": true
   },
   "outputs": [],
   "source": [
    "train['Item_Outlet_Age'] = 2013 - train['Outlet_Establishment_Year']\n",
    "train.drop('Outlet_Establishment_Year', axis=1, inplace=True)\n",
    "test['Item_Outlet_Age'] = 2013 - test['Outlet_Establishment_Year']\n",
    "test.drop('Outlet_Establishment_Year', axis=1, inplace=True)\n"
   ]
  },
  {
   "cell_type": "markdown",
   "metadata": {},
   "source": [
    "#### Putting actual values of Item_Weight\n",
    "Find the value of Item_Weight by matching the Item_Identifier"
   ]
  },
  {
   "cell_type": "code",
   "execution_count": 5,
   "metadata": {
    "collapsed": true
   },
   "outputs": [
    {
     "name": "stderr",
     "output_type": "stream",
     "text": [
      "C:\\ProgramData\\Anaconda2\\lib\\site-packages\\ipykernel_launcher.py:12: SettingWithCopyWarning: \n",
      "A value is trying to be set on a copy of a slice from a DataFrame\n",
      "\n",
      "See the caveats in the documentation: http://pandas.pydata.org/pandas-docs/stable/indexing.html#indexing-view-versus-copy\n",
      "  if sys.path[0] == '':\n",
      "C:\\ProgramData\\Anaconda2\\lib\\site-packages\\ipykernel_launcher.py:22: SettingWithCopyWarning: \n",
      "A value is trying to be set on a copy of a slice from a DataFrame\n",
      "\n",
      "See the caveats in the documentation: http://pandas.pydata.org/pandas-docs/stable/indexing.html#indexing-view-versus-copy\n"
     ]
    }
   ],
   "source": [
    "train['Item_Weight'] = train['Item_Weight'].fillna(0)\n",
    "test['Item_Weight'] = test['Item_Weight'].fillna(0)\n",
    "s=''\n",
    "value=0\n",
    "for i in range(train['Item_Type'].count()):\n",
    "    if (train['Item_Weight'][i]==0):\n",
    "        s = train['Item_Identifier'][i]\n",
    "    for i in range(train['Item_Type'].count()):\n",
    "        if (train['Item_Weight'][i]>0 and train['Item_Identifier'][i] ==s):\n",
    "            value= train['Item_Weight'][i]\n",
    "            break\n",
    "    train['Item_Weight'][i]=value\n",
    "s=''\n",
    "value=0\n",
    "for i in range(test['Item_Type'].count()):\n",
    "    if (test['Item_Weight'][i]==0):\n",
    "        s = test['Item_Identifier'][i]\n",
    "    for i in range(test['Item_Type'].count()):\n",
    "        if (test['Item_Weight'][i]>0 and test  ['Item_Identifier'][i] ==s):\n",
    "            value= test['Item_Weight'][i]\n",
    "            break\n",
    "    train['Item_Weight'][i]=value"
   ]
  },
  {
   "cell_type": "markdown",
   "metadata": {},
   "source": [
    "#### Putting mean value of Item_Weight\n",
    "Uncomment the cell below and comment the cell above to to fill 'Item_Weight' values by mean values."
   ]
  },
  {
   "cell_type": "code",
   "execution_count": 6,
   "metadata": {
    "collapsed": true
   },
   "outputs": [],
   "source": [
    "# train['Item_Weight']=train['Item_Weight'].fillna(train['Item_Weight'].mean())\n",
    "# test['Item_Weight']=test['Item_Weight'].fillna(test['Item_Weight'].mean())"
   ]
  },
  {
   "cell_type": "markdown",
   "metadata": {},
   "source": [
    "#### Item_Identifier\n",
    "This column is unique so it cannot be used to train the data as it doesn't add any feature."
   ]
  },
  {
   "cell_type": "code",
   "execution_count": 7,
   "metadata": {
    "collapsed": true
   },
   "outputs": [],
   "source": [
    "train.drop('Item_Identifier',axis=1,inplace = True)\n",
    "test.drop('Item_Identifier',axis=1,inplace = True)"
   ]
  },
  {
   "cell_type": "markdown",
   "metadata": {},
   "source": [
    "#### Outlet_Size\n",
    "Outlet size has "
   ]
  },
  {
   "cell_type": "code",
   "execution_count": 8,
   "metadata": {
    "collapsed": true
   },
   "outputs": [],
   "source": [
    "train['Outlet_Size'] = train['Outlet_Size'].fillna('yolo')\n",
    "test['Outlet_Size'] = test['Outlet_Size'].fillna('yolo')"
   ]
  },
  {
   "cell_type": "code",
   "execution_count": 9,
   "metadata": {
    "collapsed": true
   },
   "outputs": [],
   "source": [
    "X = pd.get_dummies(train)\n",
    "test = pd.get_dummies(test)"
   ]
  },
  {
   "cell_type": "code",
   "execution_count": 10,
   "metadata": {
    "collapsed": true
   },
   "outputs": [],
   "source": [
    "X_train = X.drop(\"Item_Outlet_Sales\",axis=1)\n",
    "Y_train = X[\"Item_Outlet_Sales\"]\n",
    "X_test  = test#.drop(\"Loan_Status\",axis=1).copy()"
   ]
  },
  {
   "cell_type": "code",
   "execution_count": 11,
   "metadata": {
    "collapsed": true
   },
   "outputs": [],
   "source": [
    "from sklearn.model_selection import train_test_split\n",
    "x_train, x_test, y_train, y_test = train_test_split(X_train, Y_train, test_size=0.2)"
   ]
  },
  {
   "cell_type": "code",
   "execution_count": 12,
   "metadata": {
    "collapsed": true
   },
   "outputs": [],
   "source": [
    "#Linear Regression Model\n",
    "regr = linear_model.LinearRegression()\n",
    "regr.fit(x_train,y_train)\n",
    "y_pred = regr.predict(x_test)"
   ]
  },
  {
   "cell_type": "code",
   "execution_count": 13,
   "metadata": {},
   "outputs": [
    {
     "name": "stdout",
     "output_type": "stream",
     "text": [
      "('R Square : ', 0.55868418745985804)\n",
      "('Adjusted R Square : ', 0.54725939520264788)\n",
      "('MAE : ', 850.82328688634198)\n",
      "('MSE : ', 1300166.9207667266)\n",
      "('RMSE : ', 1140.2486223480942)\n"
     ]
    }
   ],
   "source": [
    "from sklearn.metrics import mean_absolute_error\n",
    "mse = mean_squared_error(y_test, y_pred)\n",
    "rmse = np.sqrt(mean_squared_error(y_test, y_pred))\n",
    "mae = mean_absolute_error(y_test,y_pred)\n",
    "print ('R Square : ',regr.score(x_test, y_test))\n",
    "print ('Adjusted R Square : ',1 - (1-regr.score(x_test, y_test))*(len(y_test)-1)/(len(y_test)-x_test.shape[1]-1))\n",
    "print('MAE : ', mae)\n",
    "print('MSE : ', mse)\n",
    "print('RMSE : ', rmse)"
   ]
  },
  {
   "cell_type": "code",
   "execution_count": 14,
   "metadata": {
    "collapsed": true
   },
   "outputs": [],
   "source": [
    "#Decision Tree\n",
    "from sklearn import tree\n",
    "model = tree.DecisionTreeRegressor() #for regression\n",
    "fit_model = model.fit(x_train, y_train)\n",
    "y_pred1 = model.predict(x_test)"
   ]
  },
  {
   "cell_type": "code",
   "execution_count": 15,
   "metadata": {},
   "outputs": [
    {
     "name": "stdout",
     "output_type": "stream",
     "text": [
      "('R Square : ', 0.2041894883651677)\n",
      "('Adjusted R Square : ', 0.18358753050827559)\n",
      "('MAE : ', 1064.3510039882697)\n",
      "('MSE : ', 2344548.8990538688)\n",
      "('RMSE : ', 1531.1919863471951)\n"
     ]
    }
   ],
   "source": [
    "mse = mean_squared_error(y_test, y_pred1)\n",
    "rmse = np.sqrt(mean_squared_error(y_test, y_pred1))\n",
    "mae = mean_absolute_error(y_test,y_pred1)\n",
    "print ('R Square : ',model.score(x_test, y_test))\n",
    "print ('Adjusted R Square : ',1 - (1-model.score(x_test, y_test))*(len(y_test)-1)/(len(y_test)-x_test.shape[1]-1))\n",
    "print('MAE : ', mae)\n",
    "print('MSE : ', mse)\n",
    "print('RMSE : ', rmse)"
   ]
  },
  {
   "cell_type": "code",
   "execution_count": 16,
   "metadata": {
    "collapsed": true
   },
   "outputs": [],
   "source": [
    "#KNN\n",
    "from sklearn.neighbors import KNeighborsRegressor\n",
    "model=KNeighborsRegressor(n_neighbors=5) # default value for n_neighbors is 5\n",
    "model.fit(x_train, y_train)\n",
    "y_pred2 = model.predict(x_test)"
   ]
  },
  {
   "cell_type": "code",
   "execution_count": 17,
   "metadata": {},
   "outputs": [
    {
     "name": "stdout",
     "output_type": "stream",
     "text": [
      "('R Square : ', 0.46785562421980659)\n",
      "('Adjusted R Square : ', 0.45407946036758007)\n",
      "('MAE : ', 893.14738723753658)\n",
      "('MSE : ', 1567758.2692519838)\n",
      "('RMSE : ', 1252.1015411107774)\n"
     ]
    }
   ],
   "source": [
    "mse = mean_squared_error(y_test, y_pred2)\n",
    "rmse = np.sqrt(mean_squared_error(y_test, y_pred2))\n",
    "mae = mean_absolute_error(y_test,y_pred2)\n",
    "print ('R Square : ',model.score(x_test, y_test))\n",
    "print ('Adjusted R Square : ',1 - (1-model.score(x_test, y_test))*(len(y_test)-1)/(len(y_test)-x_test.shape[1]-1))\n",
    "print('MAE : ', mae)\n",
    "print('MSE : ', mse)\n",
    "print('RMSE : ', rmse)"
   ]
  },
  {
   "cell_type": "code",
   "execution_count": 18,
   "metadata": {
    "collapsed": true
   },
   "outputs": [],
   "source": [
    "#Random Forest\n",
    "from sklearn.ensemble import RandomForestRegressor\n",
    "#Assumed you have, X (predictor) and Y (target) for training data set and x_test(predictor) of test_dataset\n",
    "# Create Random Forest object\n",
    "model= RandomForestRegressor()\n",
    "# Train the model using the training sets and check score\n",
    "model.fit(x_train, y_train)\n",
    "#Predict Output\n",
    "y_pred3= model.predict(x_test)"
   ]
  },
  {
   "cell_type": "code",
   "execution_count": 19,
   "metadata": {},
   "outputs": [
    {
     "name": "stdout",
     "output_type": "stream",
     "text": [
      "('R Square : ', 0.52763223457026143)\n",
      "('Adjusted R Square : ', 0.51540356875841387)\n",
      "('MAE : ', 822.91923278592367)\n",
      "('MSE : ', 1391649.5298757942)\n",
      "('RMSE : ', 1179.6819613250827)\n"
     ]
    }
   ],
   "source": [
    "mse = mean_squared_error(y_test, y_pred3)\n",
    "rmse = np.sqrt(mean_squared_error(y_test, y_pred3))\n",
    "mae = mean_absolute_error(y_test,y_pred3)\n",
    "print ('R Square : ',model.score(x_test, y_test))\n",
    "print ('Adjusted R Square : ',1 - (1-model.score(x_test, y_test))*(len(y_test)-1)/(len(y_test)-x_test.shape[1]-1))\n",
    "print('MAE : ', mae)\n",
    "print('MSE : ', mse)\n",
    "print('RMSE : ', rmse)"
   ]
  },
  {
   "cell_type": "code",
   "execution_count": 20,
   "metadata": {
    "collapsed": true
   },
   "outputs": [],
   "source": [
    "from sklearn.cluster import KMeans\n",
    "Ks = range(1, 10)\n",
    "km = [KMeans(n_clusters=i) for i in Ks]\n",
    "score = [km[i].fit(X_train).score(X_train) for i in range(len(km))]"
   ]
  },
  {
   "cell_type": "code",
   "execution_count": 21,
   "metadata": {},
   "outputs": [
    {
     "data": {
      "image/png": "[encoded data removed]",
      "text/plain": [
       "<matplotlib.figure.Figure at 0xd6c4278>"
      ]
     },
     "metadata": {},
     "output_type": "display_data"
    }
   ],
   "source": [
    "plt.plot(score)\n",
    "plt.show()"
   ]
  },
  {
   "cell_type": "code",
   "execution_count": 22,
   "metadata": {},
   "outputs": [
    {
     "data": {
      "text/plain": [
       "[-34020948.368866757,\n",
       " -10469724.956310812,\n",
       " -5861193.9810675643,\n",
       " -3129102.8127296967,\n",
       " -2350446.9094159333,\n",
       " -1890518.3361365283,\n",
       " -1595848.3216816653,\n",
       " -1477312.7527877025,\n",
       " -1373392.4529958353]"
      ]
     },
     "execution_count": 22,
     "metadata": {},
     "output_type": "execute_result"
    }
   ],
   "source": [
    "score"
   ]
  },
  {
   "cell_type": "code",
   "execution_count": null,
   "metadata": {
    "collapsed": true
   },
   "outputs": [],
   "source": []
  }
 ],
 "metadata": {
  "kernelspec": {
   "display_name": "Python 2",
   "language": "python",
   "name": "python2"
  },
  "language_info": {
   "codemirror_mode": {
    "name": "ipython",
    "version": 2
   },
   "file_extension": ".py",
   "mimetype": "text/x-python",
   "name": "python",
   "nbconvert_exporter": "python",
   "pygments_lexer": "ipython2",
   "version": "2.7.13"
  }
 },
 "nbformat": 4,
 "nbformat_minor": 2
}
